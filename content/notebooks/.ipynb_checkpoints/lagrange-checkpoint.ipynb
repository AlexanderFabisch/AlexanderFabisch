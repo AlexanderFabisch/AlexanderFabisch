{
 "cells": [
  {
   "cell_type": "markdown",
   "metadata": {},
   "source": [
    "$$f(x_1, x_2) = 0.5 x_1^2 + 2 x_2^2 + x_1 x_2$$\n",
    "$$\\text{s.t. } g(x_1, x_2) = x_1 - 0.5 x_2 + 1 = 0$$"
   ]
  },
  {
   "cell_type": "markdown",
   "metadata": {},
   "source": [
    "$$x_1 - 0.5 \\sqrt{x_2} + 1 = 0 \\Leftrightarrow x_2 = 2 x_1 + 2 = h(x_1)$$"
   ]
  },
  {
   "cell_type": "code",
   "execution_count": 35,
   "metadata": {
    "collapsed": false
   },
   "outputs": [
    {
     "name": "stdout",
     "output_type": "stream",
     "text": [
      "Populating the interactive namespace from numpy and matplotlib\n"
     ]
    },
    {
     "name": "stderr",
     "output_type": "stream",
     "text": [
      "WARNING: pylab import has clobbered these variables: ['f']\n",
      "`%matplotlib` prevents importing * from pylab and numpy\n"
     ]
    }
   ],
   "source": [
    "%pylab inline"
   ]
  },
  {
   "cell_type": "code",
   "execution_count": 51,
   "metadata": {
    "collapsed": true
   },
   "outputs": [],
   "source": [
    "def f(x1, x2):\n",
    "    return 0.5 * x1 ** 2 + 2.0 * x2 ** 2 + x1 * x2\n",
    "def h(x1):\n",
    "    return 2 * x1 + 2"
   ]
  },
  {
   "cell_type": "code",
   "execution_count": 52,
   "metadata": {
    "collapsed": false
   },
   "outputs": [
    {
     "data": {
      "text/plain": [
       "(-5, 5)"
      ]
     },
     "execution_count": 52,
     "metadata": {},
     "output_type": "execute_result"
    },
    {
     "data": {
      "image/png": "[encoded data removed]",
      "text/plain": [
       "<matplotlib.figure.Figure at 0x7fa8582e36d0>"
      ]
     },
     "metadata": {},
     "output_type": "display_data"
    }
   ],
   "source": [
    "x = y = np.arange(-5.0, 5.01, 0.01)\n",
    "X, Y = np.meshgrid(x, y)\n",
    "Z = f(X, Y)\n",
    "contourf(X, Y, Z)\n",
    "plot(x, h(x), c=\"r\")\n",
    "xlim((-5, 5))\n",
    "ylim((-5, 5))"
   ]
  },
  {
   "cell_type": "markdown",
   "metadata": {},
   "source": [
    "$$L(x_1, x_2, \\lambda) = 0.5 x_1^2 + 2 x_2^2 + x_1 x_2 + \\lambda (x_1 - 0.5 x_2 + 1)$$\n",
    "\n",
    "$$\\frac{\\delta L(x_1, x_2, \\lambda)}{\\delta x_1} = (1 + \\lambda) x_1 + x_2$$\n",
    "\n",
    "$$\\frac{\\delta L(x_1, x_2, \\lambda)}{\\delta x_2} = 4 x_2 + x_1 - 0.5 \\lambda$$\n",
    "\n",
    "$$\\frac{\\delta L(x_1, x_2, \\lambda)}{\\delta \\lambda} = x_1 - 0.5 x_2 + 1$$"
   ]
  },
  {
   "cell_type": "markdown",
   "metadata": {},
   "source": [
    "$$0 = (1 + \\lambda) x_1 + x_2$$\n",
    "$$0 = 4 x_2 + x_1 + \\lambda \\frac{1}{4\\sqrt{x_2}}$$\n",
    "$$0 = x_1 - 0.5 \\sqrt{x_2} + 1$$"
   ]
  },
  {
   "cell_type": "code",
   "execution_count": null,
   "metadata": {
    "collapsed": true
   },
   "outputs": [],
   "source": []
  }
 ],
 "metadata": {
  "kernelspec": {
   "display_name": "Python 2",
   "language": "python",
   "name": "python2"
  },
  "language_info": {
   "codemirror_mode": {
    "name": "ipython",
    "version": 2
   },
   "file_extension": ".py",
   "mimetype": "text/x-python",
   "name": "python",
   "nbconvert_exporter": "python",
   "pygments_lexer": "ipython2",
   "version": "2.7.12"
  }
 },
 "nbformat": 4,
 "nbformat_minor": 0
}
